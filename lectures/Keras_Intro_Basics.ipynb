{
 "cells": [
  {
   "cell_type": "markdown",
   "metadata": {},
   "source": [
    "### Keras\n",
    "\n",
    "- 빠른 모형 프로토타이핑을 통한 연구 효율 증대 \n",
    "- API사용이 쉽고 오사용으로 인한 시행착오를 줄여준다. \n",
    "- GPU, CPU 모두 사용 가능 \n",
    "- 다양한 backend 활용 가능\n",
    "\n",
    "#### R interface to Keras\n",
    "\n",
    "- Python 버전의 Keras를 R에서 활용 가능하게 Wrapping한 패키지 \n",
    "- R의 강점을 딥러닝을 하는데 활용 가능 \n",
    "- 간결한 API, 복잡한 `import`사용을 하지 않아도 된다. \n",
    "- reticulate 기반으로 동작해 keras의 최신 기능을 바로 활용 가능하다. "
   ]
  },
  {
   "cell_type": "markdown",
   "metadata": {},
   "source": [
    "### Keras 설치 "
   ]
  },
  {
   "cell_type": "markdown",
   "metadata": {},
   "source": [
    "> devtools::install_github(\"rstudio/keras\")\n",
    "\n",
    "\n",
    "> library(keras)\n",
    "\n",
    "> install_tensorflow()"
   ]
  },
  {
   "cell_type": "markdown",
   "metadata": {},
   "source": [
    "### A first neural network in Keras"
   ]
  },
  {
   "cell_type": "code",
   "execution_count": 1,
   "metadata": {
    "collapsed": true
   },
   "outputs": [],
   "source": [
    "library(keras)"
   ]
  },
  {
   "cell_type": "markdown",
   "metadata": {},
   "source": [
    "#### 데이터 로딩과 샘플 플로팅 "
   ]
  },
  {
   "cell_type": "code",
   "execution_count": 23,
   "metadata": {
    "collapsed": true
   },
   "outputs": [],
   "source": [
    "batch_size <- 128\n",
    "num_classes <- 10\n",
    "epochs <- 30\n",
    "\n",
    "# the data, shuffled and split between train and test sets\n",
    "mnist <- dataset_mnist()\n",
    "x_train <- mnist$train$x\n",
    "y_train <- mnist$train$y\n",
    "x_test <- mnist$test$x\n",
    "y_test <- mnist$test$y"
   ]
  },
  {
   "cell_type": "code",
   "execution_count": 24,
   "metadata": {},
   "outputs": [
    {
     "name": "stdout",
     "output_type": "stream",
     "text": [
      "[1] \"x_train dimension : 60000, 784\"\n",
      "[1] \"y_train dimension : 60000, 10\"\n"
     ]
    }
   ],
   "source": [
    "x_train <- array(as.numeric(x_train), dim = c(dim(x_train)[[1]], 784))\n",
    "x_test <- array(as.numeric(x_test), dim = c(dim(x_test)[[1]], 784))\n",
    "\n",
    "x_train <- x_train / 255\n",
    "x_test <- x_test / 255\n",
    "\n",
    "# convert class vectors to binary class matrices\n",
    "y_train <- to_categorical(y_train, num_classes)\n",
    "y_test <- to_categorical(y_test, num_classes)\n",
    "\n",
    "\n",
    "print(sprintf(\"x_train dimension : %d, %d\", dim(x_train)[1], dim(x_train)[2]))\n",
    "print(sprintf(\"y_train dimension : %d, %d\", dim(y_train)[1], dim(y_train)[2]))\n"
   ]
  },
  {
   "cell_type": "code",
   "execution_count": 4,
   "metadata": {
    "collapsed": true
   },
   "outputs": [],
   "source": [
    "plot_examples <- function(data, labels, model_predict){\n",
    "    par(mfrow=c(2,4))\n",
    "    for(i in 1:8){\n",
    "        idx <- sample(seq(dim(data)[2]), 1)\n",
    "        lab <- paste0(\"num: \" , which.max(labels[idx,]) - 1 , \",\" , which.max(model_predict[idx,]) - 1)\n",
    "        image(t(apply(array(data[idx,], dim = c(28,28)), 2, rev)), col=paste(\"gray\",1:99,sep=\"\"),main=lab)\n",
    "    }\n",
    "}"
   ]
  },
  {
   "cell_type": "code",
   "execution_count": 5,
   "metadata": {},
   "outputs": [
    {
     "data": {
      "image/png": "[encoded data removed]",
      "text/plain": [
       "Plot with title “num: 8,8”"
      ]
     },
     "metadata": {},
     "output_type": "display_data"
    }
   ],
   "source": [
    "plot_examples(x_train, y_train, y_train)"
   ]
  },
  {
   "cell_type": "code",
   "execution_count": 25,
   "metadata": {
    "scrolled": true
   },
   "outputs": [
    {
     "name": "stdout",
     "output_type": "stream",
     "text": [
      "Model\n",
      "________________________________________________________________________________\n",
      "Layer (type)                        Output Shape                    Param #     \n",
      "================================================================================\n",
      "input_2 (InputLayer)                (None, 784)                     0           \n",
      "________________________________________________________________________________\n",
      "dense_4 (Dense)                     (None, 64)                      50240       \n",
      "________________________________________________________________________________\n",
      "dense_5 (Dense)                     (None, 64)                      4160        \n",
      "________________________________________________________________________________\n",
      "dense_6 (Dense)                     (None, 10)                      650         \n",
      "================================================================================\n",
      "Total params: 55,050\n",
      "Trainable params: 55,050\n",
      "Non-trainable params: 0\n",
      "________________________________________________________________________________\n",
      "\n",
      " \n",
      "Test loss: 0.1619006 \n",
      "Test accuracy: 0.9727 \n"
     ]
    }
   ],
   "source": [
    "\n",
    "# input layer\n",
    "inputs <- layer_input(shape = c(784))\n",
    " \n",
    "# outputs compose input + dense layers\n",
    "predictions <- inputs %>%\n",
    "  layer_dense(units = 64, activation = 'relu') %>% \n",
    "  layer_dense(units = 64, activation = 'relu') %>% \n",
    "  layer_dense(units = 10, activation = 'softmax')\n",
    "\n",
    "# create and compile model\n",
    "model <- keras_model(inputs = inputs, outputs = predictions)\n",
    "\n",
    "summary(model)\n",
    "\n",
    "model %>% compile(\n",
    "  optimizer = 'rmsprop',\n",
    "  loss = 'categorical_crossentropy',\n",
    "  metrics = c('accuracy')\n",
    ")\n",
    "\n",
    "history <- model %>% fit(\n",
    "  x_train, y_train,\n",
    "  batch_size = batch_size,\n",
    "  epochs = epochs,\n",
    "  verbose = 1,\n",
    "  callbacks = callback_tensorboard(log_dir = \"logs/run_b\"),\n",
    "  validation_split = 0.2\n",
    ")\n",
    "  \n",
    "score <- model %>% evaluate(\n",
    "  x_test, y_test,\n",
    "  verbose = 0\n",
    ")\n",
    "  \n",
    "cat('Test loss:', score[[1]], '\\n')\n",
    "cat('Test accuracy:', score[[2]], '\\n')"
   ]
  },
  {
   "cell_type": "code",
   "execution_count": null,
   "metadata": {
    "collapsed": true
   },
   "outputs": [],
   "source": []
  }
 ],
 "metadata": {
  "kernelspec": {
   "display_name": "R 3.3",
   "language": "R",
   "name": "ir33"
  },
  "language_info": {
   "codemirror_mode": "r",
   "file_extension": ".r",
   "mimetype": "text/x-r-source",
   "name": "R",
   "pygments_lexer": "r",
   "version": "3.4.1"
  }
 },
 "nbformat": 4,
 "nbformat_minor": 2
}
